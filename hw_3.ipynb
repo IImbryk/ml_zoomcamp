{
 "cells": [
  {
   "cell_type": "code",
   "execution_count": 25,
   "metadata": {},
   "outputs": [],
   "source": [
    "import pandas as pd\n",
    "from sklearn.feature_selection import mutual_info_classif\n",
    "\n",
    "from sklearn.linear_model import LogisticRegression\n",
    "from sklearn.preprocessing import OneHotEncoder\n",
    "from sklearn.metrics import accuracy_score"
   ]
  },
  {
   "cell_type": "code",
   "execution_count": 6,
   "metadata": {},
   "outputs": [],
   "source": [
    "df = pd.read_csv('bank-full.csv', sep=';')"
   ]
  },
  {
   "cell_type": "code",
   "execution_count": 8,
   "metadata": {},
   "outputs": [],
   "source": [
    "select_columns = [\n",
    "    \"age\", \"job\", \"marital\", \"education\", \"balance\", \"housing\", \n",
    "    \"contact\", \"day\", \"month\", \"duration\", \"campaign\", \n",
    "    \"pdays\", \"previous\", \"poutcome\", \"y\"\n",
    "]"
   ]
  },
  {
   "cell_type": "code",
   "execution_count": 11,
   "metadata": {},
   "outputs": [],
   "source": [
    "df = df[select_columns]"
   ]
  },
  {
   "cell_type": "code",
   "execution_count": 13,
   "metadata": {},
   "outputs": [
    {
     "data": {
      "text/html": [
       "<div>\n",
       "<style scoped>\n",
       "    .dataframe tbody tr th:only-of-type {\n",
       "        vertical-align: middle;\n",
       "    }\n",
       "\n",
       "    .dataframe tbody tr th {\n",
       "        vertical-align: top;\n",
       "    }\n",
       "\n",
       "    .dataframe thead th {\n",
       "        text-align: right;\n",
       "    }\n",
       "</style>\n",
       "<table border=\"1\" class=\"dataframe\">\n",
       "  <thead>\n",
       "    <tr style=\"text-align: right;\">\n",
       "      <th></th>\n",
       "      <th>0</th>\n",
       "      <th>1</th>\n",
       "      <th>2</th>\n",
       "      <th>3</th>\n",
       "      <th>4</th>\n",
       "    </tr>\n",
       "  </thead>\n",
       "  <tbody>\n",
       "    <tr>\n",
       "      <th>age</th>\n",
       "      <td>58</td>\n",
       "      <td>44</td>\n",
       "      <td>33</td>\n",
       "      <td>47</td>\n",
       "      <td>33</td>\n",
       "    </tr>\n",
       "    <tr>\n",
       "      <th>job</th>\n",
       "      <td>management</td>\n",
       "      <td>technician</td>\n",
       "      <td>entrepreneur</td>\n",
       "      <td>blue-collar</td>\n",
       "      <td>unknown</td>\n",
       "    </tr>\n",
       "    <tr>\n",
       "      <th>marital</th>\n",
       "      <td>married</td>\n",
       "      <td>single</td>\n",
       "      <td>married</td>\n",
       "      <td>married</td>\n",
       "      <td>single</td>\n",
       "    </tr>\n",
       "    <tr>\n",
       "      <th>education</th>\n",
       "      <td>tertiary</td>\n",
       "      <td>secondary</td>\n",
       "      <td>secondary</td>\n",
       "      <td>unknown</td>\n",
       "      <td>unknown</td>\n",
       "    </tr>\n",
       "    <tr>\n",
       "      <th>balance</th>\n",
       "      <td>2143</td>\n",
       "      <td>29</td>\n",
       "      <td>2</td>\n",
       "      <td>1506</td>\n",
       "      <td>1</td>\n",
       "    </tr>\n",
       "    <tr>\n",
       "      <th>housing</th>\n",
       "      <td>yes</td>\n",
       "      <td>yes</td>\n",
       "      <td>yes</td>\n",
       "      <td>yes</td>\n",
       "      <td>no</td>\n",
       "    </tr>\n",
       "    <tr>\n",
       "      <th>contact</th>\n",
       "      <td>unknown</td>\n",
       "      <td>unknown</td>\n",
       "      <td>unknown</td>\n",
       "      <td>unknown</td>\n",
       "      <td>unknown</td>\n",
       "    </tr>\n",
       "    <tr>\n",
       "      <th>day</th>\n",
       "      <td>5</td>\n",
       "      <td>5</td>\n",
       "      <td>5</td>\n",
       "      <td>5</td>\n",
       "      <td>5</td>\n",
       "    </tr>\n",
       "    <tr>\n",
       "      <th>month</th>\n",
       "      <td>may</td>\n",
       "      <td>may</td>\n",
       "      <td>may</td>\n",
       "      <td>may</td>\n",
       "      <td>may</td>\n",
       "    </tr>\n",
       "    <tr>\n",
       "      <th>duration</th>\n",
       "      <td>261</td>\n",
       "      <td>151</td>\n",
       "      <td>76</td>\n",
       "      <td>92</td>\n",
       "      <td>198</td>\n",
       "    </tr>\n",
       "    <tr>\n",
       "      <th>campaign</th>\n",
       "      <td>1</td>\n",
       "      <td>1</td>\n",
       "      <td>1</td>\n",
       "      <td>1</td>\n",
       "      <td>1</td>\n",
       "    </tr>\n",
       "    <tr>\n",
       "      <th>pdays</th>\n",
       "      <td>-1</td>\n",
       "      <td>-1</td>\n",
       "      <td>-1</td>\n",
       "      <td>-1</td>\n",
       "      <td>-1</td>\n",
       "    </tr>\n",
       "    <tr>\n",
       "      <th>previous</th>\n",
       "      <td>0</td>\n",
       "      <td>0</td>\n",
       "      <td>0</td>\n",
       "      <td>0</td>\n",
       "      <td>0</td>\n",
       "    </tr>\n",
       "    <tr>\n",
       "      <th>poutcome</th>\n",
       "      <td>unknown</td>\n",
       "      <td>unknown</td>\n",
       "      <td>unknown</td>\n",
       "      <td>unknown</td>\n",
       "      <td>unknown</td>\n",
       "    </tr>\n",
       "    <tr>\n",
       "      <th>y</th>\n",
       "      <td>no</td>\n",
       "      <td>no</td>\n",
       "      <td>no</td>\n",
       "      <td>no</td>\n",
       "      <td>no</td>\n",
       "    </tr>\n",
       "  </tbody>\n",
       "</table>\n",
       "</div>"
      ],
      "text/plain": [
       "                    0           1             2            3        4\n",
       "age                58          44            33           47       33\n",
       "job        management  technician  entrepreneur  blue-collar  unknown\n",
       "marital       married      single       married      married   single\n",
       "education    tertiary   secondary     secondary      unknown  unknown\n",
       "balance          2143          29             2         1506        1\n",
       "housing           yes         yes           yes          yes       no\n",
       "contact       unknown     unknown       unknown      unknown  unknown\n",
       "day                 5           5             5            5        5\n",
       "month             may         may           may          may      may\n",
       "duration          261         151            76           92      198\n",
       "campaign            1           1             1            1        1\n",
       "pdays              -1          -1            -1           -1       -1\n",
       "previous            0           0             0            0        0\n",
       "poutcome      unknown     unknown       unknown      unknown  unknown\n",
       "y                  no          no            no           no       no"
      ]
     },
     "execution_count": 13,
     "metadata": {},
     "output_type": "execute_result"
    }
   ],
   "source": [
    "df.head().T"
   ]
  },
  {
   "cell_type": "code",
   "execution_count": 14,
   "metadata": {},
   "outputs": [
    {
     "data": {
      "text/plain": [
       "0    secondary\n",
       "Name: education, dtype: object"
      ]
     },
     "execution_count": 14,
     "metadata": {},
     "output_type": "execute_result"
    }
   ],
   "source": [
    "df.education.mode()"
   ]
  },
  {
   "cell_type": "code",
   "execution_count": 17,
   "metadata": {},
   "outputs": [],
   "source": [
    "numeric_col = ['age', 'balance', 'day', 'campaign', 'pdays', 'previous']"
   ]
  },
  {
   "cell_type": "code",
   "execution_count": 18,
   "metadata": {},
   "outputs": [
    {
     "name": "stderr",
     "output_type": "stream",
     "text": [
      "/var/folders/p6/b16fkpd508j8307_nxc17wjc0000gn/T/ipykernel_53926/1123068292.py:2: SettingWithCopyWarning: \n",
      "A value is trying to be set on a copy of a slice from a DataFrame.\n",
      "Try using .loc[row_indexer,col_indexer] = value instead\n",
      "\n",
      "See the caveats in the documentation: https://pandas.pydata.org/pandas-docs/stable/user_guide/indexing.html#returning-a-view-versus-a-copy\n",
      "  df['y'] = df['y'].replace({'yes': 1, 'no': 0})\n"
     ]
    },
    {
     "data": {
      "text/plain": [
       "(('previous', 'pdays'), 0.4548196354805043)"
      ]
     },
     "execution_count": 18,
     "metadata": {},
     "output_type": "execute_result"
    }
   ],
   "source": [
    "# Replacing 'yes'/'no' in the 'y' column with 1/0\n",
    "df['y'] = df['y'].replace({'yes': 1, 'no': 0})\n",
    "\n",
    "# Computing the correlation matrix for numerical features\n",
    "correlation_matrix = df[numeric_col].corr()\n",
    "\n",
    "# Finding the two features with the highest correlation\n",
    "biggest_correlation = correlation_matrix.unstack().sort_values(ascending=False).drop_duplicates()\n",
    "highest_corr_pair = biggest_correlation[biggest_correlation < 1].idxmax()\n",
    "\n",
    "highest_corr_pair, biggest_correlation[highest_corr_pair]"
   ]
  },
  {
   "cell_type": "code",
   "execution_count": 19,
   "metadata": {},
   "outputs": [
    {
     "data": {
      "text/html": [
       "<div>\n",
       "<style scoped>\n",
       "    .dataframe tbody tr th:only-of-type {\n",
       "        vertical-align: middle;\n",
       "    }\n",
       "\n",
       "    .dataframe tbody tr th {\n",
       "        vertical-align: top;\n",
       "    }\n",
       "\n",
       "    .dataframe thead th {\n",
       "        text-align: right;\n",
       "    }\n",
       "</style>\n",
       "<table border=\"1\" class=\"dataframe\">\n",
       "  <thead>\n",
       "    <tr style=\"text-align: right;\">\n",
       "      <th></th>\n",
       "      <th>age</th>\n",
       "      <th>balance</th>\n",
       "      <th>day</th>\n",
       "      <th>campaign</th>\n",
       "      <th>pdays</th>\n",
       "      <th>previous</th>\n",
       "    </tr>\n",
       "  </thead>\n",
       "  <tbody>\n",
       "    <tr>\n",
       "      <th>age</th>\n",
       "      <td>1.000000</td>\n",
       "      <td>0.097783</td>\n",
       "      <td>-0.009120</td>\n",
       "      <td>0.004760</td>\n",
       "      <td>-0.023758</td>\n",
       "      <td>0.001288</td>\n",
       "    </tr>\n",
       "    <tr>\n",
       "      <th>balance</th>\n",
       "      <td>0.097783</td>\n",
       "      <td>1.000000</td>\n",
       "      <td>0.004503</td>\n",
       "      <td>-0.014578</td>\n",
       "      <td>0.003435</td>\n",
       "      <td>0.016674</td>\n",
       "    </tr>\n",
       "    <tr>\n",
       "      <th>day</th>\n",
       "      <td>-0.009120</td>\n",
       "      <td>0.004503</td>\n",
       "      <td>1.000000</td>\n",
       "      <td>0.162490</td>\n",
       "      <td>-0.093044</td>\n",
       "      <td>-0.051710</td>\n",
       "    </tr>\n",
       "    <tr>\n",
       "      <th>campaign</th>\n",
       "      <td>0.004760</td>\n",
       "      <td>-0.014578</td>\n",
       "      <td>0.162490</td>\n",
       "      <td>1.000000</td>\n",
       "      <td>-0.088628</td>\n",
       "      <td>-0.032855</td>\n",
       "    </tr>\n",
       "    <tr>\n",
       "      <th>pdays</th>\n",
       "      <td>-0.023758</td>\n",
       "      <td>0.003435</td>\n",
       "      <td>-0.093044</td>\n",
       "      <td>-0.088628</td>\n",
       "      <td>1.000000</td>\n",
       "      <td>0.454820</td>\n",
       "    </tr>\n",
       "    <tr>\n",
       "      <th>previous</th>\n",
       "      <td>0.001288</td>\n",
       "      <td>0.016674</td>\n",
       "      <td>-0.051710</td>\n",
       "      <td>-0.032855</td>\n",
       "      <td>0.454820</td>\n",
       "      <td>1.000000</td>\n",
       "    </tr>\n",
       "  </tbody>\n",
       "</table>\n",
       "</div>"
      ],
      "text/plain": [
       "               age   balance       day  campaign     pdays  previous\n",
       "age       1.000000  0.097783 -0.009120  0.004760 -0.023758  0.001288\n",
       "balance   0.097783  1.000000  0.004503 -0.014578  0.003435  0.016674\n",
       "day      -0.009120  0.004503  1.000000  0.162490 -0.093044 -0.051710\n",
       "campaign  0.004760 -0.014578  0.162490  1.000000 -0.088628 -0.032855\n",
       "pdays    -0.023758  0.003435 -0.093044 -0.088628  1.000000  0.454820\n",
       "previous  0.001288  0.016674 -0.051710 -0.032855  0.454820  1.000000"
      ]
     },
     "execution_count": 19,
     "metadata": {},
     "output_type": "execute_result"
    }
   ],
   "source": [
    "correlation_matrix"
   ]
  },
  {
   "cell_type": "code",
   "execution_count": 20,
   "metadata": {},
   "outputs": [
    {
     "data": {
      "text/plain": [
       "(((27126, 14), (9042, 14), (9043, 14)), ((27126,), (9042,), (9043,)))"
      ]
     },
     "execution_count": 20,
     "metadata": {},
     "output_type": "execute_result"
    }
   ],
   "source": [
    "from sklearn.model_selection import train_test_split\n",
    "\n",
    "# Separating the features and the target variable\n",
    "X = df.drop(columns=['y'])\n",
    "y = df['y']\n",
    "\n",
    "# Splitting the data into train (60%), val (20%), and test (20%) sets\n",
    "X_train, X_temp, y_train, y_temp = train_test_split(X, y, test_size=0.4, random_state=42)\n",
    "X_val, X_test, y_val, y_test = train_test_split(X_temp, y_temp, test_size=0.5, random_state=42)\n",
    "\n",
    "# Showing the shapes of the resulting splits\n",
    "(X_train.shape, X_val.shape, X_test.shape), (y_train.shape, y_val.shape, y_test.shape)"
   ]
  },
  {
   "cell_type": "code",
   "execution_count": 21,
   "metadata": {},
   "outputs": [],
   "source": [
    "categorical_cols = df.select_dtypes(include=['object']).columns\n"
   ]
  },
  {
   "cell_type": "code",
   "execution_count": 24,
   "metadata": {},
   "outputs": [
    {
     "data": {
      "text/plain": [
       "{'job': 0.0,\n",
       " 'marital': 0.01,\n",
       " 'education': 0.0,\n",
       " 'housing': 0.01,\n",
       " 'contact': 0.01,\n",
       " 'month': 0.02,\n",
       " 'poutcome': 0.03}"
      ]
     },
     "execution_count": 24,
     "metadata": {},
     "output_type": "execute_result"
    }
   ],
   "source": [
    "from sklearn.preprocessing import LabelEncoder\n",
    "\n",
    "# Applying label encoding to the categorical columns in the training set\n",
    "label_encoders = {}\n",
    "for col in categorical_cols:\n",
    "    le = LabelEncoder()\n",
    "    X_train[col] = le.fit_transform(X_train[col])\n",
    "    label_encoders[col] = le  # Saving the encoder for future use\n",
    "\n",
    "# Computing the mutual information score again after encoding\n",
    "mi_scores = mutual_info_classif(X_train[categorical_cols], y_train)\n",
    "\n",
    "# Creating a dictionary of feature names and their mutual information scores\n",
    "mi_scores_dict = {col: round(score, 2) for col, score in zip(categorical_cols, mi_scores)}\n",
    "\n",
    "mi_scores_dict"
   ]
  },
  {
   "cell_type": "code",
   "execution_count": 29,
   "metadata": {},
   "outputs": [
    {
     "name": "stderr",
     "output_type": "stream",
     "text": [
      "/usr/local/lib/python3.11/site-packages/sklearn/preprocessing/_encoders.py:972: FutureWarning: `sparse` was renamed to `sparse_output` in version 1.2 and will be removed in 1.4. `sparse_output` is ignored unless you leave `sparse` to its default value.\n",
      "  warnings.warn(\n",
      "/usr/local/lib/python3.11/site-packages/sklearn/preprocessing/_encoders.py:227: UserWarning: Found unknown categories in columns [0, 1, 2, 3, 4, 5, 6] during transform. These unknown categories will be encoded as all zeros\n",
      "  warnings.warn(\n"
     ]
    },
    {
     "data": {
      "text/plain": [
       "0.87"
      ]
     },
     "execution_count": 29,
     "metadata": {},
     "output_type": "execute_result"
    }
   ],
   "source": [
    "# Modifying the encoder to handle unknown categories\n",
    "encoder = OneHotEncoder(sparse=False, drop='first', handle_unknown='ignore')\n",
    "\n",
    "# One-hot encoding the categorical columns for the training set\n",
    "X_train_encoded = encoder.fit_transform(X_train[categorical_cols])\n",
    "\n",
    "# Combining encoded categorical features with the numerical features for the training set\n",
    "X_train_combined = pd.concat([pd.DataFrame(X_train_encoded), X_train.drop(columns=categorical_cols).reset_index(drop=True)], axis=1)\n",
    "\n",
    "# Applying the same transformation to the validation set\n",
    "X_val_encoded = encoder.transform(X_val[categorical_cols])\n",
    "X_val_combined = pd.concat([pd.DataFrame(X_val_encoded), X_val.drop(columns=categorical_cols).reset_index(drop=True)], axis=1)\n",
    "\n",
    "# Defining the Logistic Regression model\n",
    "model = LogisticRegression(solver='liblinear', C=1.0, max_iter=1000, random_state=42)\n",
    "\n",
    "# Converting all column names to strings for compatibility with the model\n",
    "X_train_combined.columns = X_train_combined.columns.astype(str)\n",
    "X_val_combined.columns = X_val_combined.columns.astype(str)\n",
    "\n",
    "# Fitting the model on the training data again\n",
    "model.fit(X_train_combined, y_train)\n",
    "\n",
    "# Predicting on the validation data\n",
    "y_val_pred = model.predict(X_val_combined)\n",
    "\n",
    "# Calculating the accuracy score on the validation set\n",
    "val_accuracy = accuracy_score(y_val, y_val_pred)\n",
    "\n",
    "# Rounding the accuracy to 2 decimal places\n",
    "val_accuracy_rounded = round(val_accuracy, 2)\n",
    "\n",
    "val_accuracy_rounded\n",
    "\n"
   ]
  },
  {
   "cell_type": "code",
   "execution_count": 41,
   "metadata": {},
   "outputs": [
    {
     "data": {
      "text/plain": [
       "Index(['0', '1', '2', '3', '4', '5', '6', '7', '8', '9', '10', '11', '12',\n",
       "       '13', '14', '15', '16', '17', '18', '19', '20', '21', '22', '23', '24',\n",
       "       '25', '26', '27', '28', '29', '30', '31', '32', 'age', 'balance', 'day',\n",
       "       'duration', 'campaign', 'pdays', 'previous'],\n",
       "      dtype='object')"
      ]
     },
     "execution_count": 41,
     "metadata": {},
     "output_type": "execute_result"
    }
   ],
   "source": []
  },
  {
   "cell_type": "code",
   "execution_count": 42,
   "metadata": {},
   "outputs": [
    {
     "data": {
      "text/plain": [
       "('27', 0.1146)"
      ]
     },
     "execution_count": 42,
     "metadata": {},
     "output_type": "execute_result"
    }
   ],
   "source": [
    "# Function to calculate accuracy without a specific feature\n",
    "def calculate_accuracy_without_specific_feature(feature, X_train_combined, X_val_combined, y_train, y_val):\n",
    "    # Dropping the specific feature from both train and validation sets\n",
    "    X_train_reduced = X_train_combined.drop(columns=[feature])\n",
    "    X_val_reduced = X_val_combined.drop(columns=[feature])\n",
    "    \n",
    "    # Training the model without the feature\n",
    "    model = LogisticRegression(solver='liblinear', C=1.0, max_iter=1000, random_state=42)\n",
    "    model.fit(X_train_reduced, y_train)\n",
    "    \n",
    "    # Predicting on the validation set\n",
    "    y_val_pred = model.predict(X_val_reduced)\n",
    "    \n",
    "    # Calculating the accuracy on the validation set\n",
    "    return accuracy_score(y_val, y_val_pred)\n",
    "\n",
    "# Features to test for elimination\n",
    "features_to_test = X_train_combined.columns\n",
    "\n",
    "# Calculating accuracy difference for each feature\n",
    "feature_differences_test = {}\n",
    "for feature in features_to_test:\n",
    "    accuracy_without_feature = calculate_accuracy_without_specific_feature(feature, X_train_combined, X_val_combined, y_train, y_val)\n",
    "    difference = 1 - accuracy_without_feature\n",
    "    feature_differences_test[feature] = round(difference, 4)\n",
    "\n",
    "# Finding the feature with the smallest difference\n",
    "least_useful_feature_test = min(feature_differences_test, key=feature_differences_test.get)\n",
    "\n",
    "least_useful_feature_test, feature_differences_test[least_useful_feature_test]\n"
   ]
  },
  {
   "cell_type": "code",
   "execution_count": 31,
   "metadata": {},
   "outputs": [
    {
     "name": "stdout",
     "output_type": "stream",
     "text": [
      "['job_1' 'job_2' 'job_3' 'job_4' 'job_5' 'job_6' 'job_7' 'job_8' 'job_9'\n",
      " 'job_10' 'job_11' 'marital_1' 'marital_2' 'education_1' 'education_2'\n",
      " 'education_3' 'housing_1' 'contact_1' 'contact_2' 'month_1' 'month_2'\n",
      " 'month_3' 'month_4' 'month_5' 'month_6' 'month_7' 'month_8' 'month_9'\n",
      " 'month_10' 'month_11' 'poutcome_1' 'poutcome_2' 'poutcome_3']\n"
     ]
    }
   ],
   "source": [
    "# Получаем новые имена столбцов после кодирования\n",
    "encoded_feature_names = encoder.get_feature_names_out(categorical_cols)\n",
    "\n",
    "# Выводим новые имена столбцов\n",
    "print(encoded_feature_names)\n"
   ]
  },
  {
   "cell_type": "code",
   "execution_count": 32,
   "metadata": {},
   "outputs": [
    {
     "data": {
      "text/plain": [
       "(1, 0.875)"
      ]
     },
     "execution_count": 32,
     "metadata": {},
     "output_type": "execute_result"
    }
   ],
   "source": [
    "# List of regularization parameter values to try\n",
    "C_values = [0.01, 0.1, 1, 10, 100]\n",
    "\n",
    "# Dictionary to store accuracy for each C value\n",
    "accuracy_for_C = {}\n",
    "\n",
    "# Loop over each value of C and train the model\n",
    "for C in C_values:\n",
    "    # Defining the Logistic Regression model with the current value of C\n",
    "    model = LogisticRegression(solver='liblinear', C=C, max_iter=1000, random_state=42)\n",
    "    \n",
    "    # Fitting the model on the training data\n",
    "    model.fit(X_train_combined, y_train)\n",
    "    \n",
    "    # Predicting on the validation data\n",
    "    y_val_pred = model.predict(X_val_combined)\n",
    "    \n",
    "    # Calculating the accuracy score on the validation set\n",
    "    val_accuracy = accuracy_score(y_val, y_val_pred)\n",
    "    \n",
    "    # Storing the accuracy rounded to 3 decimal digits\n",
    "    accuracy_for_C[C] = round(val_accuracy, 3)\n",
    "\n",
    "# Finding the best C value (the one with the highest accuracy)\n",
    "best_C = max(accuracy_for_C, key=accuracy_for_C.get)\n",
    "\n",
    "best_C, accuracy_for_C[best_C]\n"
   ]
  },
  {
   "cell_type": "code",
   "execution_count": null,
   "metadata": {},
   "outputs": [],
   "source": []
  }
 ],
 "metadata": {
  "kernelspec": {
   "display_name": "Python 3",
   "language": "python",
   "name": "python3"
  },
  "language_info": {
   "codemirror_mode": {
    "name": "ipython",
    "version": 3
   },
   "file_extension": ".py",
   "mimetype": "text/x-python",
   "name": "python",
   "nbconvert_exporter": "python",
   "pygments_lexer": "ipython3",
   "version": "3.11.9"
  },
  "orig_nbformat": 4
 },
 "nbformat": 4,
 "nbformat_minor": 2
}

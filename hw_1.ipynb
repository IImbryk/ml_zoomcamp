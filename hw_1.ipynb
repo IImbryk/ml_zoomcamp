{
 "cells": [
  {
   "cell_type": "code",
   "execution_count": 1,
   "id": "0668c7bf",
   "metadata": {},
   "outputs": [],
   "source": [
    "import pandas as pd\n",
    "import numpy as np"
   ]
  },
  {
   "cell_type": "code",
   "execution_count": 2,
   "id": "43f85fb5",
   "metadata": {},
   "outputs": [
    {
     "data": {
      "text/plain": [
       "'1.5.3'"
      ]
     },
     "execution_count": 2,
     "metadata": {},
     "output_type": "execute_result"
    }
   ],
   "source": [
    "pd.__version__"
   ]
  },
  {
   "cell_type": "code",
   "execution_count": 5,
   "id": "50aa09bd",
   "metadata": {},
   "outputs": [],
   "source": [
    "df = pd.read_csv('laptops.csv')"
   ]
  },
  {
   "cell_type": "code",
   "execution_count": 7,
   "id": "71a3ed77",
   "metadata": {},
   "outputs": [
    {
     "name": "stdout",
     "output_type": "stream",
     "text": [
      "<class 'pandas.core.frame.DataFrame'>\n",
      "RangeIndex: 2160 entries, 0 to 2159\n",
      "Data columns (total 12 columns):\n",
      " #   Column        Non-Null Count  Dtype  \n",
      "---  ------        --------------  -----  \n",
      " 0   Laptop        2160 non-null   object \n",
      " 1   Status        2160 non-null   object \n",
      " 2   Brand         2160 non-null   object \n",
      " 3   Model         2160 non-null   object \n",
      " 4   CPU           2160 non-null   object \n",
      " 5   RAM           2160 non-null   int64  \n",
      " 6   Storage       2160 non-null   int64  \n",
      " 7   Storage type  2118 non-null   object \n",
      " 8   GPU           789 non-null    object \n",
      " 9   Screen        2156 non-null   float64\n",
      " 10  Touch         2160 non-null   object \n",
      " 11  Final Price   2160 non-null   float64\n",
      "dtypes: float64(2), int64(2), object(8)\n",
      "memory usage: 202.6+ KB\n"
     ]
    }
   ],
   "source": [
    "df.info()"
   ]
  },
  {
   "cell_type": "code",
   "execution_count": 15,
   "id": "7030e68e",
   "metadata": {},
   "outputs": [
    {
     "data": {
      "text/plain": [
       "27"
      ]
     },
     "execution_count": 15,
     "metadata": {},
     "output_type": "execute_result"
    }
   ],
   "source": [
    "len(df['Brand'].unique())"
   ]
  },
  {
   "cell_type": "code",
   "execution_count": 18,
   "id": "4e2952da",
   "metadata": {},
   "outputs": [
    {
     "data": {
      "text/plain": [
       "array(['ExpertBook', 'Go', 'Katana', '15S', 'Crosshair', 'ThinkPad',\n",
       "       'VivoBook', 'Akoya', 'Victus', 'V15', 'Thin', 'ROG', 'IdeaPad',\n",
       "       'Cyborg', 'M515UA', 'TUF', 'Aspire', 'Pavilion', 'Vector',\n",
       "       'Chromebook', 'Omen', 'ZenBook', 'Creator', 'MacBook Air',\n",
       "       'ThinkBook', '250', 'Modern', '255', 'MacBook Pro', 'Prestige',\n",
       "       'Stealth', 'Pulse', 'Blade', 'Legion', 'Raider', 'ProBook', 'F515',\n",
       "       'G5', 'Vostro', 'Nitro', 'Gram', 'E410', 'Flex Advance', 'Bravo',\n",
       "       'Aero', 'Yoga', 'Galaxy Book', 'Erazer', 'Summit', 'Ultra',\n",
       "       'Extensa', 'Flex', 'EliteBook', 'Revolt', 'Latitude', 'Envy',\n",
       "       'Deputy', 'Predator', 'Surface Laptop', '14w', 'Titan', 'Ioxbook',\n",
       "       'Aorus', 'Swift', 'Surface Go', 'Netbook Pro', 'Surface Pro',\n",
       "       'Notebook', '470', 'Spectre', 'Alurin', 'Satellite Pro', 'XPS',\n",
       "       'ConceptD', 'E510', 'Beast', 'TravelMate', 'Portégé', 'Tecra',\n",
       "       'Neo', 'Electronics', '14S', 'Classmate Pro', '17', 'Zbook', 'BR',\n",
       "       '300w', 'M515', 'Nubian', '100e', 'Moove', 'V14', 'ProArt', '100w',\n",
       "       'V17', 'F415EA', 'LOQ', 'Macbook', 'Leopard', 'U4', 'P1511',\n",
       "       'Enduro', 'Precision', 'G7', 'Voom', 'N1510', 'WS63', 'AURELION',\n",
       "       'AZIR', 'Book Prime', 'Edge', 'Book', 'F415', 'P1411', 'A7',\n",
       "       '15U70N', 'V330', 'Alpha', 'Delta', 'GL65', 'GL75'], dtype=object)"
      ]
     },
     "execution_count": 18,
     "metadata": {},
     "output_type": "execute_result"
    }
   ],
   "source": [
    "df['Model'].unique()"
   ]
  },
  {
   "cell_type": "code",
   "execution_count": 25,
   "id": "37e1b963",
   "metadata": {},
   "outputs": [
    {
     "data": {
      "text/plain": [
       "3936.0"
      ]
     },
     "execution_count": 25,
     "metadata": {},
     "output_type": "execute_result"
    }
   ],
   "source": [
    "df[df['Brand'] == 'Dell']['Final Price'].max()\n"
   ]
  },
  {
   "cell_type": "code",
   "execution_count": 27,
   "id": "d81c99f2",
   "metadata": {},
   "outputs": [
    {
     "data": {
      "text/plain": [
       "15.6"
      ]
     },
     "execution_count": 27,
     "metadata": {},
     "output_type": "execute_result"
    }
   ],
   "source": [
    "df['Screen'].median()"
   ]
  },
  {
   "cell_type": "code",
   "execution_count": 66,
   "id": "7a98ec8e",
   "metadata": {},
   "outputs": [
    {
     "data": {
      "text/plain": [
       "0    15.6\n",
       "Name: Screen, dtype: float64"
      ]
     },
     "execution_count": 66,
     "metadata": {},
     "output_type": "execute_result"
    }
   ],
   "source": [
    "df['Screen'].mode()"
   ]
  },
  {
   "cell_type": "code",
   "execution_count": 32,
   "id": "65aa15e1",
   "metadata": {},
   "outputs": [],
   "source": [
    "df['Screen'] = df['Screen'].fillna(15.60)"
   ]
  },
  {
   "cell_type": "code",
   "execution_count": 33,
   "id": "5e101776",
   "metadata": {},
   "outputs": [
    {
     "data": {
      "text/plain": [
       "15.6"
      ]
     },
     "execution_count": 33,
     "metadata": {},
     "output_type": "execute_result"
    }
   ],
   "source": [
    "df['Screen'].median()"
   ]
  },
  {
   "cell_type": "code",
   "execution_count": 41,
   "id": "4811f381",
   "metadata": {},
   "outputs": [],
   "source": [
    "df_select = df[df['Brand'] == 'Innjoo']"
   ]
  },
  {
   "cell_type": "code",
   "execution_count": 64,
   "id": "ea7a7055",
   "metadata": {},
   "outputs": [
    {
     "name": "stdout",
     "output_type": "stream",
     "text": [
      "91.2998806299555\n"
     ]
    }
   ],
   "source": [
    "X = df_select[['RAM', 'Storage', 'Screen']].values\n",
    "y = np.array([1100, 1300, 800, 900, 1000, 1100])\n",
    "\n",
    "XTX = X.T @ X\n",
    "\n",
    "XTX_inv = np.linalg.inv(XTX)\n",
    "\n",
    "w = XTX_inv @ X.T @ y\n",
    "\n",
    "result_sum = np.sum(w)\n",
    "print(result_sum)"
   ]
  },
  {
   "cell_type": "code",
   "execution_count": null,
   "id": "6f847aa3",
   "metadata": {},
   "outputs": [],
   "source": []
  }
 ],
 "metadata": {
  "kernelspec": {
   "display_name": "Python 3 (ipykernel)",
   "language": "python",
   "name": "python3"
  },
  "language_info": {
   "codemirror_mode": {
    "name": "ipython",
    "version": 3
   },
   "file_extension": ".py",
   "mimetype": "text/x-python",
   "name": "python",
   "nbconvert_exporter": "python",
   "pygments_lexer": "ipython3",
   "version": "3.10.14"
  },
  "toc": {
   "base_numbering": 1,
   "nav_menu": {},
   "number_sections": true,
   "sideBar": true,
   "skip_h1_title": false,
   "title_cell": "Table of Contents",
   "title_sidebar": "Contents",
   "toc_cell": false,
   "toc_position": {},
   "toc_section_display": true,
   "toc_window_display": false
  }
 },
 "nbformat": 4,
 "nbformat_minor": 5
}
